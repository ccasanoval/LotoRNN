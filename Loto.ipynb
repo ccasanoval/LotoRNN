{
 "cells": [
  {
   "cell_type": "markdown",
   "metadata": {},
   "source": [
    "# ORÁCULO\n",
    "\n",
    "http://www.lotoideas.com/primitiva-resultados-historicos-de-todos-los-sorteos/\n"
   ]
  },
  {
   "cell_type": "code",
   "execution_count": 1,
   "metadata": {
    "collapsed": false
   },
   "outputs": [
    {
     "name": "stderr",
     "output_type": "stream",
     "text": [
      "Using TensorFlow backend.\n"
     ]
    }
   ],
   "source": [
    "import numpy as np\n",
    "import matplotlib.pyplot as plt\n",
    "import pandas as pd\n",
    "\n",
    "from keras import models\n",
    "from keras import layers\n",
    "from keras import optimizers\n",
    "from keras import losses\n",
    "from keras import metrics\n",
    "\n",
    "import time\n",
    "import operator"
   ]
  },
  {
   "cell_type": "code",
   "execution_count": 2,
   "metadata": {
    "collapsed": true
   },
   "outputs": [],
   "source": [
    "#Muestra una grafica de la evolucion del error de training y validacion\n",
    "def grafica(hist, offset0 = 0, offset1 = None):\n",
    "    loss = hist.history['loss'][offset0:offset1]\n",
    "    val_loss = hist.history['val_loss'][offset0:offset1]\n",
    "    epochs = range(offset0 + 1, len(loss) + offset0 + 1)\n",
    "    plt.plot(epochs, loss, 'bo', label='Training loss')\n",
    "    plt.plot(epochs, val_loss, 'b', label='Validation loss')\n",
    "    plt.title('Training and validation loss')\n",
    "    plt.xlabel('Epochs')\n",
    "    plt.ylabel('Loss')\n",
    "    plt.legend()\n",
    "    plt.show()"
   ]
  },
  {
   "cell_type": "code",
   "execution_count": 3,
   "metadata": {
    "collapsed": true
   },
   "outputs": [],
   "source": [
    "#Funciones para mostrar tiempo transcurrido\n",
    "def print_time(time_ini):\n",
    "    sec = round(time.time() - time_ini)\n",
    "    min = 0\n",
    "    if(sec > 60):\n",
    "        min = sec // 60\n",
    "        sec = sec & 60\n",
    "    print(\"TIME: \", min, \"m  \", sec, \"s\")\n",
    "\n",
    "def ini_time():\n",
    "    print(\"Procesando... \", time.ctime())\n",
    "    return time.time()"
   ]
  },
  {
   "cell_type": "code",
   "execution_count": 4,
   "metadata": {
    "collapsed": true
   },
   "outputs": [],
   "source": [
    "import winsound\n",
    "def beep():\n",
    "    duration = 500  # millisecond\n",
    "    freq = 900  # Hz\n",
    "    winsound.Beep(freq, duration)\n",
    "    winsound.Beep(freq, duration)\n",
    "    winsound.Beep(freq, 2*duration)"
   ]
  },
  {
   "cell_type": "code",
   "execution_count": 5,
   "metadata": {
    "collapsed": false
   },
   "outputs": [],
   "source": [
    "#Calcula el error incurrido en la predicción\n",
    "import math\n",
    "def calc_error(pred, real):\n",
    "    error = []\n",
    "    for i in range(len(pred)):\n",
    "        error.append(0)\n",
    "        for j in range(len(pred[i])):\n",
    "            if(pred[i][j] not in real[i]):\n",
    "                error[i] += 1\n",
    "    for i in range(len(error)):\n",
    "        error[i] = math.floor(error[i]*100.0/6.0)\n",
    "    return error"
   ]
  },
  {
   "cell_type": "code",
   "execution_count": 58,
   "metadata": {
    "collapsed": true
   },
   "outputs": [],
   "source": [
    "#TODO: Si el peor de los mejores esta repetido, alguno mejor podria no entrar en la lista\n",
    "def traduce(pred):\n",
    "    numeros = []\n",
    "    for i in range(pred.shape[0]):\n",
    "        min_mas_alto = sorted(pred[i], key=float, reverse=True)[5]\n",
    "        numeros.append([])\n",
    "        for j in range(pred.shape[1]):\n",
    "            if pred[i][j] >= min_mas_alto and len(numeros[i]) < 6:\n",
    "                numeros[i].append(j)\n",
    "    return numeros\n",
    "\n",
    "def traduce_uno(pred):\n",
    "    numeros = []\n",
    "    min_mas_alto = sorted(pred, key=float, reverse=True)[5]\n",
    "    for j in range(pred.shape[0]):\n",
    "        if pred[j] >= min_mas_alto and len(numeros) < 6:\n",
    "            numeros.append(j)\n",
    "    return numeros"
   ]
  },
  {
   "cell_type": "code",
   "execution_count": null,
   "metadata": {
    "collapsed": true
   },
   "outputs": [],
   "source": []
  },
  {
   "cell_type": "markdown",
   "metadata": {},
   "source": [
    "# --------------------------------------------------------------------------------------------------------------"
   ]
  },
  {
   "cell_type": "code",
   "execution_count": 7,
   "metadata": {
    "collapsed": false
   },
   "outputs": [
    {
     "name": "stdout",
     "output_type": "stream",
     "text": [
      "        fecha  n1  n2  n3  n4  n5  n6\n",
      "0  27/01/2018   7   8  10  14  27  48\n",
      "1  25/01/2018   3   6  25  31  32  40\n",
      "2  20/01/2018  15  23  28  36  39  47\n",
      "3  18/01/2018  11  12  22  28  37  49\n",
      "4  13/01/2018   6   7  22  31  38  44\n",
      "\n",
      "          fecha  n1  n2  n3  n4  n5  n6\n",
      "529   3/01/2013   3  15  23  26  34  38\n",
      "528   5/01/2013   1   4   9  11  38  48\n",
      "527  10/01/2013  29  32  34  42  44  46\n",
      "526  12/01/2013   2   3  19  20  29  37\n",
      "525  17/01/2013   1  23  30  41  43  49\n",
      "\n",
      "MAX:  49\n",
      "MIN:  1\n",
      "DIM:  (530, 7)\n"
     ]
    }
   ],
   "source": [
    "#Cargar datos\n",
    "datos = pd.read_csv('Primitiva_2013_2018.csv')\n",
    "\n",
    "datos = datos.drop(labels=['comp'], axis=1)\n",
    "\n",
    "print(datos.head())\n",
    "print()\n",
    "#Poner los datos mas recientes al final...\n",
    "datos = datos.reindex(index=datos.index[::-1])\n",
    "print(datos.head())\n",
    "print()\n",
    "\n",
    "max = datos.max(1).max()\n",
    "min = datos.min(1).min()\n",
    "print(\"MAX: \", max)#49\n",
    "print(\"MIN: \", min)# 1\n",
    "print(\"DIM: \", datos.shape)\n",
    "features = max - min +1"
   ]
  },
  {
   "cell_type": "code",
   "execution_count": 8,
   "metadata": {
    "collapsed": false
   },
   "outputs": [
    {
     "name": "stdout",
     "output_type": "stream",
     "text": [
      "----------------------------------------\n",
      "\n",
      "     n1  n2  n3  n4  n5  n6\n",
      "529   3  15  23  26  34  38\n",
      "528   1   4   9  11  38  48\n",
      "527  29  32  34  42  44  46\n",
      "526   2   3  19  20  29  37\n",
      "525   1  23  30  41  43  49\n",
      "----------------------------------------\n",
      "\n",
      "[[ 3 15 23 26 34 38]\n",
      " [ 1  4  9 11 38 48]\n",
      " [29 32 34 42 44 46]\n",
      " ...\n",
      " [15 23 28 36 39 47]\n",
      " [ 3  6 25 31 32 40]\n",
      " [ 7  8 10 14 27 48]]\n",
      "----------------------------------------\n",
      "\n",
      "[3, 15, 23, 26, 34, 38]\n",
      "[1, 4, 9, 11, 38, 48]\n",
      "[29, 32, 34, 42, 44, 46]\n",
      "...\n"
     ]
    }
   ],
   "source": [
    "#Convierte los numeros enteros premiados en un array binario\n",
    "def vectorize(sequences, dimension=features):\n",
    "    res = np.zeros((len(sequences), dimension))\n",
    "    for i, sequence in enumerate(sequences):\n",
    "        res[i, sequence-min] = 1\n",
    "    return res\n",
    "\n",
    "def devectorize(valor):\n",
    "    res = []\n",
    "    for i in range(len(valor)):\n",
    "        if(valor[i] > 0):\n",
    "            res.append(i+min)\n",
    "    return res\n",
    "#print(devectorize(np.array([0, 0, 0, 1, 0, 1, 0, 0, 1, 0])), \"\\n\")\n",
    "\n",
    "numeros = datos.drop(labels=['fecha'], axis=1)\n",
    "print(\"----------------------------------------\\n\")\n",
    "print(numeros.head())\n",
    "print(\"----------------------------------------\\n\")\n",
    "print(np.array(numeros))\n",
    "print(\"----------------------------------------\\n\")\n",
    "num_hot = vectorize(np.array(numeros))\n",
    "print(devectorize(num_hot[0]))\n",
    "print(devectorize(num_hot[1]))\n",
    "print(devectorize(num_hot[2]))\n",
    "print(\"...\")"
   ]
  },
  {
   "cell_type": "code",
   "execution_count": 9,
   "metadata": {
    "collapsed": false
   },
   "outputs": [
    {
     "name": "stdout",
     "output_type": "stream",
     "text": [
      "530 100\n"
     ]
    },
    {
     "data": {
      "text/plain": [
       "'\\nprint(devectorize(num_hot[0]))\\nprint(devectorize(secuencias[0][0]))\\nprint()\\nprint(devectorize(num_hot[seq_len-1]))\\nprint(devectorize(secuencias[0][seq_len-1]))\\nprint()\\nprint(devectorize(num_hot[1]))\\nprint(devectorize(secuencias[1][0]))\\nprint()\\nprint(devectorize(num_hot[1+seq_len-1]))\\nprint(devectorize(secuencias[1][seq_len-1]))\\nprint()\\n\\nprint(devectorize(secuencias[0][0]))\\nprint(\"...\")\\n'"
      ]
     },
     "execution_count": 9,
     "metadata": {},
     "output_type": "execute_result"
    }
   ],
   "source": [
    "#Divide los datos en secuencias que el modelo tendrá que aprender\n",
    "seq_len = 100\n",
    "secuencias = []\n",
    "print(len(num_hot), seq_len)\n",
    "for index in range(len(num_hot) - seq_len):\n",
    "    secuencias.append(num_hot[index : index + seq_len])\n",
    "secuencias = np.array(secuencias)\n",
    "###\n",
    "\"\"\"\n",
    "print(devectorize(num_hot[0]))\n",
    "print(devectorize(secuencias[0][0]))\n",
    "print()\n",
    "print(devectorize(num_hot[seq_len-1]))\n",
    "print(devectorize(secuencias[0][seq_len-1]))\n",
    "print()\n",
    "print(devectorize(num_hot[1]))\n",
    "print(devectorize(secuencias[1][0]))\n",
    "print()\n",
    "print(devectorize(num_hot[1+seq_len-1]))\n",
    "print(devectorize(secuencias[1][seq_len-1]))\n",
    "print()\n",
    "\n",
    "print(devectorize(secuencias[0][0]))\n",
    "print(\"...\")\n",
    "\"\"\""
   ]
  },
  {
   "cell_type": "code",
   "execution_count": 10,
   "metadata": {
    "collapsed": false
   },
   "outputs": [
    {
     "name": "stdout",
     "output_type": "stream",
     "text": [
      "(430, 100, 49)\n",
      "(387, 100, 49)\n",
      "[3, 15, 23, 26, 34, 38]\n",
      "[3, 15, 23, 26, 34, 38]\n",
      "(387, 99, 49)\n",
      "[0. 0. 1. 0. 0. 0. 0. 0. 0. 0. 0. 0. 0. 0. 1. 0. 0. 0. 0. 0. 0. 0. 1. 0.\n",
      " 0. 1. 0. 0. 0. 0. 0. 0. 0. 1. 0. 0. 0. 1. 0. 0. 0. 0. 0. 0. 0. 0. 0. 0.\n",
      " 0.]\n",
      "(387, 49)\n",
      "(43, 99, 49)\n",
      "(43, 49)\n"
     ]
    }
   ],
   "source": [
    "#Divide los datos en Training y Test\n",
    "print(secuencias.shape)\n",
    "row = round(0.9 * secuencias.shape[0])\n",
    "train = secuencias[:int(row), :]\n",
    "print(train.shape)\n",
    "print(devectorize(train[0][0]))\n",
    "print(devectorize(secuencias[0][0]))\n",
    "\n",
    "#np.random.shuffle(train)\n",
    "\n",
    "x_train = train[:, :-1]#Todos menos el ultimo valor, que es el que hay que predecir\n",
    "print(x_train.shape)\n",
    "print(x_train[0][0])\n",
    "\n",
    "y_train = train[:, -1] #El ultimo valor, que es el que interesa predecir\n",
    "print(y_train.shape)\n",
    "x_test = secuencias[int(row):, :-1]\n",
    "print(x_test.shape)\n",
    "y_test = secuencias[int(row):, -1]\n",
    "print(y_test.shape)\n"
   ]
  },
  {
   "cell_type": "code",
   "execution_count": 11,
   "metadata": {
    "collapsed": false
   },
   "outputs": [
    {
     "data": {
      "text/plain": [
       "'\\nprint(x_train.shape,  seq_len)\\n\\nprint()\\nprint(devectorize(num_hot[0]))\\nprint(devectorize(x_train[0][0]))\\nprint()\\nprint(devectorize(num_hot[seq_len-2]))\\nprint(devectorize(x_train[0][seq_len-2]))\\nprint()\\nprint(devectorize(num_hot[seq_len-1]))\\nprint(devectorize(y_train[0]))\\nprint()\\nprint(devectorize(num_hot[x_train.shape[0]+seq_len-2]))\\nprint(devectorize(x_test[0][seq_len-2]))\\nprint()\\nprint(devectorize(num_hot[x_train.shape[0]+seq_len-1]))\\nprint(devectorize(y_test[0]))\\n'"
      ]
     },
     "execution_count": 11,
     "metadata": {},
     "output_type": "execute_result"
    }
   ],
   "source": [
    "\"\"\"\n",
    "print(x_train.shape,  seq_len)\n",
    "\n",
    "print()\n",
    "print(devectorize(num_hot[0]))\n",
    "print(devectorize(x_train[0][0]))\n",
    "print()\n",
    "print(devectorize(num_hot[seq_len-2]))\n",
    "print(devectorize(x_train[0][seq_len-2]))\n",
    "print()\n",
    "print(devectorize(num_hot[seq_len-1]))\n",
    "print(devectorize(y_train[0]))\n",
    "print()\n",
    "print(devectorize(num_hot[x_train.shape[0]+seq_len-2]))\n",
    "print(devectorize(x_test[0][seq_len-2]))\n",
    "print()\n",
    "print(devectorize(num_hot[x_train.shape[0]+seq_len-1]))\n",
    "print(devectorize(y_test[0]))\n",
    "\"\"\""
   ]
  },
  {
   "cell_type": "code",
   "execution_count": null,
   "metadata": {
    "collapsed": true
   },
   "outputs": [],
   "source": []
  },
  {
   "cell_type": "markdown",
   "metadata": {},
   "source": [
    "# --------------------------------------------------------------------------------------------------------------"
   ]
  },
  {
   "cell_type": "markdown",
   "metadata": {},
   "source": [
    "# --------------------------------------------------------------------------------------------------------------"
   ]
  },
  {
   "cell_type": "code",
   "execution_count": null,
   "metadata": {
    "collapsed": true
   },
   "outputs": [],
   "source": []
  },
  {
   "cell_type": "markdown",
   "metadata": {},
   "source": [
    "#### OBJETIVO MINIMO: OK 33.33 !!!\n",
    "\n",
    "model1 ->\n",
    "\n",
    "4 capas LSTM, 1 densa, epoca=35, 5m0s/200e -> OK 16.6\n",
    "\n",
    "5 capas LSTM, 1 densa, epoca=81, 4m40s/150e -> OK 30.44 !!!\n",
    "\n",
    "6 capas LSTM, 1 densa, epoca=150, 11m/150e -> OK \n",
    "\n",
    "\n"
   ]
  },
  {
   "cell_type": "code",
   "execution_count": 12,
   "metadata": {
    "collapsed": true
   },
   "outputs": [],
   "source": [
    "#Crea la RNN\n",
    "def build_model():\n",
    "    model = models.Sequential()\n",
    "    \n",
    "    model.add(layers.LSTM(\n",
    "        input_shape=(None, features),\n",
    "        units=features,\n",
    "        return_sequences=True))\n",
    "    #model.add(layers.Dropout(0.2))\n",
    "    \n",
    "    model.add(layers.LSTM(\n",
    "        input_shape=(None, features),\n",
    "        units=features,\n",
    "        return_sequences=True))\n",
    "    \n",
    "    model.add(layers.LSTM(\n",
    "        input_shape=(None, features),\n",
    "        units=features,\n",
    "        return_sequences=True))\n",
    "    \n",
    "    model.add(layers.LSTM(\n",
    "        input_shape=(None, features),\n",
    "        units=features,\n",
    "        return_sequences=True))\n",
    "    \n",
    "    model.add(layers.LSTM(\n",
    "        input_shape=(None, features),\n",
    "        units=features,\n",
    "        return_sequences=True))\n",
    "\n",
    "    model.add(layers.LSTM(\n",
    "        input_shape=(None, features),\n",
    "        units=features,\n",
    "        return_sequences=False))\n",
    "    #model.add(layers.Dropout(0.2))\n",
    "\n",
    "    model.add(layers.Dense(units=features, activation='sigmoid'))\n",
    "    #model.add(layers.Dense(units=features))\n",
    "    #model.add(layers.Activation(\"linear\"))\n",
    "\n",
    "    #start = time.time()\n",
    "    #model.compile(loss=\"mse\", optimizer=\"rmsprop\")\n",
    "    model.compile(loss=\"mse\", optimizer=\"rmsprop\")\n",
    "    #print(\"> Compilation Time : \", round(time.time() - start), \" segundos\")\n",
    "    return model\n",
    "\n",
    "##\n",
    "def build_model2():\n",
    "    model = models.Sequential()\n",
    "    \n",
    "    model.add(layers.LSTM(\n",
    "        input_shape=(None, features),\n",
    "        units=features,\n",
    "        return_sequences=True))\n",
    "    \n",
    "    #model.add(layers.Embedding(features, 32))\n",
    "    model.add(layers.Bidirectional(layers.LSTM(input_shape=(None, features), units=features, return_sequences=True)))\n",
    "    model.add(layers.Dense(features, activation='sigmoid'))\n",
    "\n",
    "    model.compile(optimizer='rmsprop', loss='binary_crossentropy', metrics=['acc'])\n",
    "    return model\n"
   ]
  },
  {
   "cell_type": "code",
   "execution_count": 13,
   "metadata": {
    "collapsed": false
   },
   "outputs": [
    {
     "name": "stdout",
     "output_type": "stream",
     "text": [
      "Procesando...  Thu Feb  1 09:08:21 2018\n",
      "TIME:  8 m   32 s\n"
     ]
    }
   ],
   "source": [
    "#Entrenar la RNN\n",
    "batch_size=128\n",
    "epochs = 150\n",
    "model = build_model()\n",
    "timeini = ini_time()\n",
    "hist = model.fit(x_train, y_train, batch_size=batch_size, epochs=epochs, validation_split=0.1, verbose=0)\n",
    "print_time(timeini)"
   ]
  },
  {
   "cell_type": "code",
   "execution_count": 23,
   "metadata": {
    "collapsed": false
   },
   "outputs": [
    {
     "name": "stdout",
     "output_type": "stream",
     "text": [
      "Val.Loss:  0.10769730061292648\n"
     ]
    },
    {
     "data": {
      "image/png": "[encoded data removed]",
      "text/plain": [
       "<matplotlib.figure.Figure at 0x251496171d0>"
      ]
     },
     "metadata": {},
     "output_type": "display_data"
    },
    {
     "data": {
      "image/png": "[encoded data removed]",
      "text/plain": [
       "<matplotlib.figure.Figure at 0x25149795f98>"
      ]
     },
     "metadata": {},
     "output_type": "display_data"
    }
   ],
   "source": [
    "print(\"Val.Loss: \", hist.history['val_loss'][epochs-1])\n",
    "grafica(hist)\n",
    "grafica(hist, 35, 60)"
   ]
  },
  {
   "cell_type": "code",
   "execution_count": 24,
   "metadata": {
    "collapsed": false
   },
   "outputs": [
    {
     "name": "stdout",
     "output_type": "stream",
     "text": [
      "Procesando...  Thu Feb  1 09:28:06 2018\n",
      "TIME:  2 m   60 s\n"
     ]
    }
   ],
   "source": [
    "timeini = ini_time()\n",
    "best_epoch = 40\n",
    "model2 = build_model()\n",
    "hist2 = model2.fit(x_train, y_train, batch_size=batch_size, epochs=best_epoch, validation_split=0.05, verbose=0)\n",
    "print_time(timeini)"
   ]
  },
  {
   "cell_type": "code",
   "execution_count": 25,
   "metadata": {
    "collapsed": false
   },
   "outputs": [
    {
     "name": "stdout",
     "output_type": "stream",
     "text": [
      "Val.Loss:  0.10780008137226105\n"
     ]
    },
    {
     "data": {
      "image/png": "[encoded data removed]",
      "text/plain": [
       "<matplotlib.figure.Figure at 0x25149795eb8>"
      ]
     },
     "metadata": {},
     "output_type": "display_data"
    }
   ],
   "source": [
    "print(\"Val.Loss: \", hist.history['val_loss'][best_epoch])\n",
    "grafica(hist2, 10, 20)"
   ]
  },
  {
   "cell_type": "code",
   "execution_count": null,
   "metadata": {
    "collapsed": false
   },
   "outputs": [],
   "source": []
  },
  {
   "cell_type": "code",
   "execution_count": 29,
   "metadata": {
    "collapsed": false
   },
   "outputs": [
    {
     "name": "stdout",
     "output_type": "stream",
     "text": [
      "REAL:  [4, 15, 20, 35, 39, 41]\n",
      "\n",
      "PRED:  [2, 10, 11, 29, 42, 45]\n",
      "ERROR:  [100, 100, 100, 100, 100, 100, 100, 100, 100, 100, 100, 100, 100, 100, 100, 100, 100, 100, 100, 100, 100, 100, 100, 100, 100, 100, 100, 83, 83, 83, 83, 83, 83, 83, 83, 83, 83, 83, 83, 83, 83, 100, 83]\n",
      "\n",
      "ERROR:   94.07 -------------------------------\n",
      "\n",
      "ACIERTO: 5.93 -------------------------------\n"
     ]
    }
   ],
   "source": [
    "numeros_ganadores = traduce(model2.predict(x_test))\n",
    "print(\"REAL: \", devectorize(y_test[0]))\n",
    "print()\n",
    "print(\"PRED: \", numeros_ganadores[0])\n",
    "##\n",
    "error = calc_error(numeros_ganadores, y_test)\n",
    "print(\"ERROR: \", error)\n",
    "err = 0\n",
    "for x in error:\n",
    "    err += x\n",
    "print(\"\\nERROR:   %.2f -------------------------------\" % (err/len(error)))\n",
    "print(\"\\nACIERTO: %.2f -------------------------------\" % (100 - err/len(error)))\n",
    "\n",
    "model2.save(\"lotoB\"+str(acierto100)+\".h5\")"
   ]
  },
  {
   "cell_type": "code",
   "execution_count": 18,
   "metadata": {
    "collapsed": false
   },
   "outputs": [
    {
     "name": "stdout",
     "output_type": "stream",
     "text": [
      "ERROR:  [100, 83, 83, 66, 50, 33, 33, 33, 33, 33, 33, 33, 33, 33, 33, 33, 33, 33, 33, 33, 33, 33, 33, 33, 33, 33, 33, 33, 33, 33, 33, 33, 33, 33, 33, 33, 33, 33, 33, 33, 33, 33, 33]\n",
      "\n",
      "ERROR:   38.05 -------------------------------\n",
      "\n",
      "ACIERTO: 61.95 -------------------------------\n"
     ]
    }
   ],
   "source": [
    "numeros_ganadores = traduce(model.predict(x_test))\n",
    "error = calc_error(numeros_ganadores, y_test)\n",
    "print(\"ERROR: \", error)\n",
    "err = 0\n",
    "for x in error:\n",
    "    err += x\n",
    "    \n",
    "error100 = err/len(error)\n",
    "acierto100 = 100 - error100\n",
    "print(\"\\nERROR:   %.2f -------------------------------\" % error100)\n",
    "print(\"\\nACIERTO: %.2f -------------------------------\" % acierto100)\n",
    "\n",
    "model.save(\"lotoA\"+str(acierto100)+\".h5\")"
   ]
  },
  {
   "cell_type": "code",
   "execution_count": null,
   "metadata": {
    "collapsed": false
   },
   "outputs": [],
   "source": []
  },
  {
   "cell_type": "code",
   "execution_count": 21,
   "metadata": {
    "collapsed": false
   },
   "outputs": [],
   "source": [
    "#TODO: Modificar porcentage TRAIN / TEST a ver como responde..."
   ]
  },
  {
   "cell_type": "code",
   "execution_count": null,
   "metadata": {
    "collapsed": false
   },
   "outputs": [],
   "source": []
  },
  {
   "cell_type": "code",
   "execution_count": 113,
   "metadata": {
    "collapsed": false
   },
   "outputs": [
    {
     "name": "stdout",
     "output_type": "stream",
     "text": [
      "(430, 100, 49)\n",
      "(50, 100, 49)\n",
      "[10, 11, 29, 42, 45, 48]  vs real  [3, 6, 25, 31, 32, 40]\n",
      "\n",
      "----------------------------------------------------------------\n",
      "[10, 11, 29, 42, 45, 48]\n",
      "----------------------------------------------------------------\n",
      "\n",
      "(530, 49)\n",
      "(172, 49)\n",
      "(1, 172, 49)\n",
      "----------------------------------------------------------------\n",
      "[3, 10, 11, 29, 42, 48]\n",
      "----------------------------------------------------------------\n"
     ]
    }
   ],
   "source": [
    "#Predecir\n",
    "print(secuencias.shape)\n",
    "print(secuencias[-51:-1].shape)\n",
    "numeros_ganadores = model.predict(secuencias[-51:-1])\n",
    "numeros_ganadores = traduce_uno(numeros_ganadores[-1])\n",
    "print(numeros_ganadores, \" vs real \", devectorize(secuencias[-1][-1]))\n",
    "print()\n",
    "\n",
    "numeros_ganadores = model.predict(secuencias[-50:])\n",
    "numeros_ganadores = traduce_uno(numeros_ganadores[-1])\n",
    "print(\"----------------------------------------------------------------\")\n",
    "print(numeros_ganadores)\n",
    "print(\"----------------------------------------------------------------\")\n",
    "\n",
    "print()\n",
    "print(num_hot.shape)\n",
    "numeros = num_hot[-250:-78]\n",
    "print(numeros.shape)\n",
    "numeros = numeros.reshape(1,numeros.shape[0], numeros.shape[1])\n",
    "print(numeros.shape)\n",
    "\n",
    "numeros_ganadores = model.predict(numeros)\n",
    "numeros_ganadores = traduce_uno(numeros_ganadores[-1])\n",
    "print(\"----------------------------------------------------------------\")\n",
    "print(numeros_ganadores)\n",
    "print(\"----------------------------------------------------------------\")\n",
    "\n"
   ]
  },
  {
   "cell_type": "code",
   "execution_count": null,
   "metadata": {
    "collapsed": true
   },
   "outputs": [],
   "source": []
  },
  {
   "cell_type": "code",
   "execution_count": null,
   "metadata": {
    "collapsed": true
   },
   "outputs": [],
   "source": []
  },
  {
   "cell_type": "code",
   "execution_count": null,
   "metadata": {
    "collapsed": true
   },
   "outputs": [],
   "source": []
  },
  {
   "cell_type": "code",
   "execution_count": null,
   "metadata": {
    "collapsed": true
   },
   "outputs": [],
   "source": []
  }
 ],
 "metadata": {
  "anaconda-cloud": {},
  "kernelspec": {
   "display_name": "Python [default]",
   "language": "python",
   "name": "python3"
  },
  "language_info": {
   "codemirror_mode": {
    "name": "ipython",
    "version": 3
   },
   "file_extension": ".py",
   "mimetype": "text/x-python",
   "name": "python",
   "nbconvert_exporter": "python",
   "pygments_lexer": "ipython3",
   "version": "3.5.2"
  }
 },
 "nbformat": 4,
 "nbformat_minor": 1
}
